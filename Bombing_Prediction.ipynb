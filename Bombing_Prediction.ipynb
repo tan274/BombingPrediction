{
 "cells": [
  {
   "cell_type": "code",
   "execution_count": 13,
   "id": "c0802be2",
   "metadata": {},
   "outputs": [],
   "source": [
    "import numpy as np\n",
    "import matplotlib.pyplot as plt\n",
    "import pandas as pd\n",
    "from sklearn.model_selection import train_test_split\n",
    "from sklearn.preprocessing import StandardScaler\n",
    "from sklearn.naive_bayes import GaussianNB\n",
    "from sklearn.metrics import confusion_matrix, accuracy_score\n",
    "from sklearn.preprocessing import LabelEncoder"
   ]
  },
  {
   "cell_type": "code",
   "execution_count": null,
   "id": "0b194b87",
   "metadata": {},
   "outputs": [],
   "source": [
    "#msndate, tgt_location, naf, aircraft_name, total_tons"
   ]
  },
  {
   "cell_type": "markdown",
   "id": "f80f8361",
   "metadata": {},
   "source": [
    "Data Prep"
   ]
  },
  {
   "cell_type": "code",
   "execution_count": 2,
   "id": "6e0f1e1c",
   "metadata": {},
   "outputs": [],
   "source": [
    "df = pd.read_csv('thor_data.csv', parse_dates=['MSNDATE'])"
   ]
  },
  {
   "cell_type": "code",
   "execution_count": 27,
   "id": "3c4c3389",
   "metadata": {},
   "outputs": [],
   "source": [
    "df[\"long_lat\"] = list(zip(df[\"LATITUDE\"], df[\"LONGITUDE\"]))"
   ]
  },
  {
   "cell_type": "code",
   "execution_count": 34,
   "id": "dc7bbf65",
   "metadata": {},
   "outputs": [
    {
     "data": {
      "text/html": [
       "<div>\n",
       "<style scoped>\n",
       "    .dataframe tbody tr th:only-of-type {\n",
       "        vertical-align: middle;\n",
       "    }\n",
       "\n",
       "    .dataframe tbody tr th {\n",
       "        vertical-align: top;\n",
       "    }\n",
       "\n",
       "    .dataframe thead th {\n",
       "        text-align: right;\n",
       "    }\n",
       "</style>\n",
       "<table border=\"1\" class=\"dataframe\">\n",
       "  <thead>\n",
       "    <tr style=\"text-align: right;\">\n",
       "      <th></th>\n",
       "      <th>MSNDATE</th>\n",
       "      <th>TOTAL_TONS</th>\n",
       "      <th>NAF</th>\n",
       "      <th>AIRCRAFT_NAME</th>\n",
       "      <th>long_lat</th>\n",
       "    </tr>\n",
       "  </thead>\n",
       "  <tbody>\n",
       "    <tr>\n",
       "      <th>0</th>\n",
       "      <td>1942-07-12</td>\n",
       "      <td>35.0</td>\n",
       "      <td>9</td>\n",
       "      <td>B17</td>\n",
       "      <td>(48.13, 11.58)</td>\n",
       "    </tr>\n",
       "    <tr>\n",
       "      <th>1</th>\n",
       "      <td>1942-10-21</td>\n",
       "      <td>8.0</td>\n",
       "      <td>9</td>\n",
       "      <td>B17</td>\n",
       "      <td>(49.63, -1.62)</td>\n",
       "    </tr>\n",
       "    <tr>\n",
       "      <th>2</th>\n",
       "      <td>1942-10-21</td>\n",
       "      <td>8.0</td>\n",
       "      <td>9</td>\n",
       "      <td>B17</td>\n",
       "      <td>(49.63, -1.62)</td>\n",
       "    </tr>\n",
       "    <tr>\n",
       "      <th>3</th>\n",
       "      <td>1942-10-21</td>\n",
       "      <td>8.0</td>\n",
       "      <td>9</td>\n",
       "      <td>B17</td>\n",
       "      <td>(49.63, -1.62)</td>\n",
       "    </tr>\n",
       "    <tr>\n",
       "      <th>4</th>\n",
       "      <td>1943-01-23</td>\n",
       "      <td>10.0</td>\n",
       "      <td>8</td>\n",
       "      <td>B17</td>\n",
       "      <td>(47.75, -3.35)</td>\n",
       "    </tr>\n",
       "    <tr>\n",
       "      <th>...</th>\n",
       "      <td>...</td>\n",
       "      <td>...</td>\n",
       "      <td>...</td>\n",
       "      <td>...</td>\n",
       "      <td>...</td>\n",
       "    </tr>\n",
       "    <tr>\n",
       "      <th>21338</th>\n",
       "      <td>1945-05-01</td>\n",
       "      <td>21.0</td>\n",
       "      <td>9</td>\n",
       "      <td>B26</td>\n",
       "      <td>(45.67, 10.67)</td>\n",
       "    </tr>\n",
       "    <tr>\n",
       "      <th>21339</th>\n",
       "      <td>1945-05-01</td>\n",
       "      <td>77.0</td>\n",
       "      <td>15</td>\n",
       "      <td>B17</td>\n",
       "      <td>(47.78, 13.03)</td>\n",
       "    </tr>\n",
       "    <tr>\n",
       "      <th>21340</th>\n",
       "      <td>1945-05-01</td>\n",
       "      <td>21.0</td>\n",
       "      <td>9</td>\n",
       "      <td>B26</td>\n",
       "      <td>(45.67, 10.67)</td>\n",
       "    </tr>\n",
       "    <tr>\n",
       "      <th>21341</th>\n",
       "      <td>1945-05-01</td>\n",
       "      <td>0.0</td>\n",
       "      <td>8</td>\n",
       "      <td>B26</td>\n",
       "      <td>(49.63, 13.17)</td>\n",
       "    </tr>\n",
       "    <tr>\n",
       "      <th>21342</th>\n",
       "      <td>1945-05-01</td>\n",
       "      <td>21.0</td>\n",
       "      <td>9</td>\n",
       "      <td>B26</td>\n",
       "      <td>(45.67, 10.67)</td>\n",
       "    </tr>\n",
       "  </tbody>\n",
       "</table>\n",
       "<p>21343 rows × 5 columns</p>\n",
       "</div>"
      ],
      "text/plain": [
       "         MSNDATE  TOTAL_TONS  NAF AIRCRAFT_NAME        long_lat\n",
       "0     1942-07-12        35.0    9           B17  (48.13, 11.58)\n",
       "1     1942-10-21         8.0    9           B17  (49.63, -1.62)\n",
       "2     1942-10-21         8.0    9           B17  (49.63, -1.62)\n",
       "3     1942-10-21         8.0    9           B17  (49.63, -1.62)\n",
       "4     1943-01-23        10.0    8           B17  (47.75, -3.35)\n",
       "...          ...         ...  ...           ...             ...\n",
       "21338 1945-05-01        21.0    9           B26  (45.67, 10.67)\n",
       "21339 1945-05-01        77.0   15           B17  (47.78, 13.03)\n",
       "21340 1945-05-01        21.0    9           B26  (45.67, 10.67)\n",
       "21341 1945-05-01         0.0    8           B26  (49.63, 13.17)\n",
       "21342 1945-05-01        21.0    9           B26  (45.67, 10.67)\n",
       "\n",
       "[21343 rows x 5 columns]"
      ]
     },
     "execution_count": 34,
     "metadata": {},
     "output_type": "execute_result"
    }
   ],
   "source": [
    "df"
   ]
  },
  {
   "cell_type": "code",
   "execution_count": 33,
   "id": "e391e2d5",
   "metadata": {},
   "outputs": [],
   "source": [
    "df = df[[\"MSNDATE\", \"TOTAL_TONS\", \"NAF\", \"AIRCRAFT_NAME\",\"long_lat\"]]"
   ]
  },
  {
   "cell_type": "code",
   "execution_count": 52,
   "id": "a8065403",
   "metadata": {},
   "outputs": [],
   "source": [
    "x = df.iloc[:, [0,1,2,3]].values\n",
    "y = df.iloc[:, [4]].values\n",
    "\n",
    "x[:,0] = LabelEncoder().fit_transform(x[:,0])\n",
    "x[:,3] = LabelEncoder().fit_transform(x[:,3])\n",
    "\n",
    "y[:,0] = LabelEncoder().fit_transform(x[:,0])\n",
    "y=y.astype('int')"
   ]
  },
  {
   "cell_type": "code",
   "execution_count": 53,
   "id": "a6a5a618",
   "metadata": {},
   "outputs": [],
   "source": [
    "x_train, x_test, y_train, y_test = train_test_split(x, y, test_size = 0.2, random_state = 0)"
   ]
  },
  {
   "cell_type": "code",
   "execution_count": 54,
   "id": "590c9b7b",
   "metadata": {},
   "outputs": [
    {
     "name": "stderr",
     "output_type": "stream",
     "text": [
      "C:\\Users\\Winston\\anaconda3\\lib\\site-packages\\sklearn\\utils\\validation.py:63: DataConversionWarning: A column-vector y was passed when a 1d array was expected. Please change the shape of y to (n_samples, ), for example using ravel().\n",
      "  return f(*args, **kwargs)\n"
     ]
    }
   ],
   "source": [
    "sc = StandardScaler()\n",
    "x_train = sc.fit_transform(x_train)\n",
    "x_test = sc.transform(x_test)\n",
    "\n",
    "# Training the Naive Bayes model on the Training set\n",
    "from sklearn.naive_bayes import GaussianNB\n",
    "classifier = GaussianNB()\n",
    "\n",
    "classifier.fit(x_train, y_train)\n",
    "\n",
    "# Predicting the Test set results\n",
    "y_pred = classifier.predict(x_test)\n",
    "\n",
    "# Making the Confusion Matrix\n",
    "from sklearn.metrics import confusion_matrix, accuracy_score\n",
    "ac = accuracy_score(y_test,y_pred)\n",
    "cm = confusion_matrix(y_test, y_pred)"
   ]
  },
  {
   "cell_type": "code",
   "execution_count": 55,
   "id": "d1614183",
   "metadata": {},
   "outputs": [
    {
     "data": {
      "text/plain": [
       "0.9960178027641133"
      ]
     },
     "execution_count": 55,
     "metadata": {},
     "output_type": "execute_result"
    }
   ],
   "source": [
    "ac"
   ]
  },
  {
   "cell_type": "code",
   "execution_count": 46,
   "id": "566b333b",
   "metadata": {},
   "outputs": [
    {
     "data": {
      "text/plain": [
       "array([[5, 0, 0, ..., 0, 0, 0],\n",
       "       [0, 1, 0, ..., 0, 0, 0],\n",
       "       [0, 0, 6, ..., 0, 0, 0],\n",
       "       ...,\n",
       "       [0, 0, 0, ..., 3, 0, 0],\n",
       "       [0, 0, 0, ..., 0, 5, 0],\n",
       "       [0, 0, 0, ..., 1, 0, 1]], dtype=int64)"
      ]
     },
     "execution_count": 46,
     "metadata": {},
     "output_type": "execute_result"
    }
   ],
   "source": [
    "cm"
   ]
  },
  {
   "cell_type": "code",
   "execution_count": null,
   "id": "7f6e6c07",
   "metadata": {},
   "outputs": [],
   "source": []
  },
  {
   "cell_type": "code",
   "execution_count": null,
   "id": "6168ea60",
   "metadata": {},
   "outputs": [],
   "source": []
  },
  {
   "cell_type": "code",
   "execution_count": null,
   "id": "feaaecad",
   "metadata": {},
   "outputs": [],
   "source": []
  }
 ],
 "metadata": {
  "kernelspec": {
   "display_name": "Python 3",
   "language": "python",
   "name": "python3"
  },
  "language_info": {
   "codemirror_mode": {
    "name": "ipython",
    "version": 3
   },
   "file_extension": ".py",
   "mimetype": "text/x-python",
   "name": "python",
   "nbconvert_exporter": "python",
   "pygments_lexer": "ipython3",
   "version": "3.8.8"
  }
 },
 "nbformat": 4,
 "nbformat_minor": 5
}
